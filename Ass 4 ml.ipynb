{
 "cells": [
  {
   "cell_type": "code",
   "execution_count": 16,
   "id": "5c21c429",
   "metadata": {},
   "outputs": [],
   "source": [
    "import numpy as np"
   ]
  },
  {
   "cell_type": "code",
   "execution_count": 17,
   "id": "c4355d4f",
   "metadata": {},
   "outputs": [],
   "source": [
    "import pandas as pd\n",
    "import statsmodels.api as sm\n",
    "from ISLP import load_data\n",
    "from ISLP.models import summarize\n",
    "from sklearn.model_selection import train_test_split"
   ]
  },
  {
   "cell_type": "markdown",
   "id": "b5f1300f",
   "metadata": {},
   "source": [
    "1)"
   ]
  },
  {
   "cell_type": "code",
   "execution_count": 2,
   "id": "55ba14be",
   "metadata": {},
   "outputs": [],
   "source": [
    "default = load_data('Default')"
   ]
  },
  {
   "cell_type": "code",
   "execution_count": 3,
   "id": "335fcdf7",
   "metadata": {},
   "outputs": [],
   "source": [
    "y = (default['default'] == 'Yes').astype(int)"
   ]
  },
  {
   "cell_type": "code",
   "execution_count": 4,
   "id": "231cef14",
   "metadata": {},
   "outputs": [],
   "source": [
    "X = default[['income', 'balance']]\n",
    "X = sm.add_constant(X)"
   ]
  },
  {
   "cell_type": "markdown",
   "id": "f4f31c53",
   "metadata": {},
   "source": [
    "1.a"
   ]
  },
  {
   "cell_type": "code",
   "execution_count": 5,
   "id": "51f27ef8",
   "metadata": {},
   "outputs": [
    {
     "name": "stdout",
     "output_type": "stream",
     "text": [
      "Logistic Regression (GLM) \n",
      "              coef   std err       z  P>|z|\n",
      "const   -11.540500  0.435000 -26.544    0.0\n",
      "income    0.000021  0.000005   4.174    0.0\n",
      "balance   0.005600  0.000000  24.835    0.0\n"
     ]
    }
   ],
   "source": [
    "model = sm.GLM(y, X, family=sm.families.Binomial()).fit()\n",
    "print(\"Logistic Regression (GLM) \")\n",
    "print(summarize(model))"
   ]
  },
  {
   "cell_type": "code",
   "execution_count": 6,
   "id": "7d7e0710",
   "metadata": {},
   "outputs": [
    {
     "name": "stdout",
     "output_type": "stream",
     "text": [
      "\n",
      "Standard Error from sm.GLM():\n",
      "income     0.000005\n",
      "balance    0.000227\n",
      "dtype: float64\n"
     ]
    }
   ],
   "source": [
    "glm_se = model.bse[['income', 'balance']]\n",
    "print(\"\\nStandard Error from sm.GLM():\")\n",
    "print(glm_se)"
   ]
  },
  {
   "cell_type": "markdown",
   "id": "4bc269c7",
   "metadata": {},
   "source": [
    "1.b"
   ]
  },
  {
   "cell_type": "code",
   "execution_count": 7,
   "id": "68a2d0eb",
   "metadata": {},
   "outputs": [],
   "source": [
    "def boot_fn(data, index):\n",
    "    y_boot = (data.loc[index, 'default'] == 'Yes').astype(int)\n",
    "    X_boot = data.loc[index, ['income', 'balance']]\n",
    "    X_boot = sm.add_constant(X_boot)\n",
    "    model_boot = sm.GLM(y_boot, X_boot, family=sm.families.Binomial()).fit()\n",
    "    return model_boot.params[['income', 'balance']]"
   ]
  },
  {
   "cell_type": "markdown",
   "id": "f4afd275",
   "metadata": {},
   "source": [
    "1.c"
   ]
  },
  {
   "cell_type": "code",
   "execution_count": 8,
   "id": "3d2a2609",
   "metadata": {},
   "outputs": [
    {
     "name": "stdout",
     "output_type": "stream",
     "text": [
      "\n",
      "Bootstrap Standard Error:\n",
      "Income: 0.000005, Balance: 0.000233\n"
     ]
    }
   ],
   "source": [
    "np.random.seed(1)\n",
    "B = 1000  \n",
    "boot_estimates = np.zeros((B, 2))\n",
    "\n",
    "for b in range(B):\n",
    "    sample_idx = np.random.choice(len(default), len(default), replace=True)\n",
    "    boot_estimates[b, :] = boot_fn(default, sample_idx)\n",
    "\n",
    "boot_se = boot_estimates.std(axis=0)\n",
    "print(\"\\nBootstrap Standard Error:\")\n",
    "print(f\"Income: {boot_se[0]:.6f}, Balance: {boot_se[1]:.6f}\")\n"
   ]
  },
  {
   "cell_type": "markdown",
   "id": "3cf57d0a",
   "metadata": {},
   "source": [
    "1.d"
   ]
  },
  {
   "cell_type": "code",
   "execution_count": 9,
   "id": "51240ac8",
   "metadata": {},
   "outputs": [
    {
     "name": "stdout",
     "output_type": "stream",
     "text": [
      "\n",
      "Comparison of Standard Error:\n",
      "GLM SE (Income): 0.000005, Bootstrap SE (Income): 0.000005\n",
      "GLM SE (Balance): 0.000227, Bootstrap SE (Balance): 0.000233\n",
      "\n",
      "Comment:\n",
      "The standard error from sm.GLM() and bootstrap are very close. The similarity here shows the model is stable and both methods are agree.\n"
     ]
    }
   ],
   "source": [
    "print(\"\\nComparison of Standard Error:\")\n",
    "print(f\"GLM SE (Income): {glm_se['income']:.6f}, Bootstrap SE (Income): {boot_se[0]:.6f}\")\n",
    "print(f\"GLM SE (Balance): {glm_se['balance']:.6f}, Bootstrap SE (Balance): {boot_se[1]:.6f}\")\n",
    "\n",
    "print(\"\\nComment:\")\n",
    "print(\"The standard error from sm.GLM() and bootstrap are very close. \"\n",
    "      \"The similarity here shows the model is stable and both methods are agree.\")"
   ]
  },
  {
   "cell_type": "markdown",
   "id": "cfbca7a3",
   "metadata": {},
   "source": [
    "task2 "
   ]
  },
  {
   "cell_type": "markdown",
   "id": "d33a5a39",
   "metadata": {},
   "source": [
    "2.a\n"
   ]
  },
  {
   "cell_type": "code",
   "execution_count": 10,
   "id": "067fbce8",
   "metadata": {},
   "outputs": [
    {
     "name": "stdout",
     "output_type": "stream",
     "text": [
      "Logistic Regression Result of  (Full Data)\n",
      "                 Generalized Linear Model Regression Results                  \n",
      "==============================================================================\n",
      "Dep. Variable:                default   No. Observations:                10000\n",
      "Model:                            GLM   Df Residuals:                     9997\n",
      "Model Family:                Binomial   Df Model:                            2\n",
      "Link Function:                  Logit   Scale:                          1.0000\n",
      "Method:                          IRLS   Log-Likelihood:                -789.48\n",
      "Date:                Wed, 01 Oct 2025   Deviance:                       1579.0\n",
      "Time:                        09:35:16   Pearson chi2:                 6.95e+03\n",
      "No. Iterations:                     9   Pseudo R-squ. (CS):             0.1256\n",
      "Covariance Type:            nonrobust                                         \n",
      "==============================================================================\n",
      "                 coef    std err          z      P>|z|      [0.025      0.975]\n",
      "------------------------------------------------------------------------------\n",
      "const        -11.5405      0.435    -26.544      0.000     -12.393     -10.688\n",
      "income      2.081e-05   4.99e-06      4.174      0.000     1.1e-05    3.06e-05\n",
      "balance        0.0056      0.000     24.835      0.000       0.005       0.006\n",
      "==============================================================================\n"
     ]
    }
   ],
   "source": [
    "model_full = sm.GLM(y, X, family=sm.families.Binomial()).fit()\n",
    "print(\"Logistic Regression Result of  (Full Data)\")\n",
    "print(model_full.summary())"
   ]
  },
  {
   "cell_type": "markdown",
   "id": "38226d3f",
   "metadata": {},
   "source": [
    "2.b"
   ]
  },
  {
   "cell_type": "code",
   "execution_count": 11,
   "id": "d27ade3f",
   "metadata": {},
   "outputs": [],
   "source": [
    "np.random.seed(1) \n",
    "X_train, X_val, y_train, y_val = train_test_split(X, y, test_size=0.5, random_state=1)"
   ]
  },
  {
   "cell_type": "code",
   "execution_count": 12,
   "id": "68cb124b",
   "metadata": {},
   "outputs": [],
   "source": [
    "model_val = sm.GLM(y_train, X_train, family=sm.families.Binomial()).fit()"
   ]
  },
  {
   "cell_type": "code",
   "execution_count": 13,
   "id": "6238bd82",
   "metadata": {},
   "outputs": [],
   "source": [
    "y_pred_prob = model_val.predict(X_val)"
   ]
  },
  {
   "cell_type": "code",
   "execution_count": 14,
   "id": "eb076bfa",
   "metadata": {},
   "outputs": [],
   "source": [
    "y_pred = (y_pred_prob > 0.5).astype(int)"
   ]
  },
  {
   "cell_type": "code",
   "execution_count": 15,
   "id": "871eb6a1",
   "metadata": {},
   "outputs": [
    {
     "name": "stdout",
     "output_type": "stream",
     "text": [
      "\n",
      "Validation Set Result:\n",
      "Test Error (Validation Mis-classification of Rate): 0.0250\n"
     ]
    }
   ],
   "source": [
    "test_error = np.mean(y_pred != y_val)\n",
    "\n",
    "print(\"\\nValidation Set Result:\")\n",
    "print(f\"Test Error (Validation Mis-classification of Rate): {test_error:.4f}\")\n"
   ]
  }
 ],
 "metadata": {
  "kernelspec": {
   "display_name": "Python 3",
   "language": "python",
   "name": "python3"
  },
  "language_info": {
   "codemirror_mode": {
    "name": "ipython",
    "version": 3
   },
   "file_extension": ".py",
   "mimetype": "text/x-python",
   "name": "python",
   "nbconvert_exporter": "python",
   "pygments_lexer": "ipython3",
   "version": "3.13.5"
  }
 },
 "nbformat": 4,
 "nbformat_minor": 5
}
